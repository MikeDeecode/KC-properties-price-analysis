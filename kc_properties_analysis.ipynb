{
  "nbformat": 4,
  "nbformat_minor": 0,
  "metadata": {
    "colab": {
      "name": "kc_properties_analysis.ipynb",
      "provenance": [],
      "authorship_tag": "ABX9TyPo7w9jl4GZ1m8/0jIHhAYk",
      "include_colab_link": true
    },
    "kernelspec": {
      "name": "python3",
      "display_name": "Python 3"
    }
  },
  "cells": [
    {
      "cell_type": "markdown",
      "metadata": {
        "id": "view-in-github",
        "colab_type": "text"
      },
      "source": [
        "<a href=\"https://colab.research.google.com/github/MikeDeecode/KC-properties-price-analysis/blob/master/kc_properties_analysis.ipynb\" target=\"_parent\"><img src=\"https://colab.research.google.com/assets/colab-badge.svg\" alt=\"Open In Colab\"/></a>"
      ]
    },
    {
      "cell_type": "markdown",
      "metadata": {
        "id": "K-GxAiNdeEEV",
        "colab_type": "text"
      },
      "source": [
        "#**KINGS COUNTY, WASHINGTON STATE, USA HOUSE SALES DATA**"
      ]
    },
    {
      "cell_type": "markdown",
      "metadata": {
        "id": "JMbsUUsseOMH",
        "colab_type": "text"
      },
      "source": [
        "**The aim of this project:**"
      ]
    },
    {
      "cell_type": "markdown",
      "metadata": {
        "id": "azlXpLnaeV_c",
        "colab_type": "text"
      },
      "source": [
        "* To detemine the features that affects the price of the house \n",
        "* How well the features affect the price of the house \n",
        "* Develop a regression model to predict the prices of new houses \n",
        "* To obtain valuable insights and improve the pricing of properties "
      ]
    },
    {
      "cell_type": "markdown",
      "metadata": {
        "id": "Cc9YB3XaezNZ",
        "colab_type": "text"
      },
      "source": [
        "##**Exploratory Analysis**"
      ]
    },
    {
      "cell_type": "markdown",
      "metadata": {
        "id": "JzQ2lFORe7lg",
        "colab_type": "text"
      },
      "source": [
        "Import the required libraries "
      ]
    },
    {
      "cell_type": "code",
      "metadata": {
        "id": "3C3jdE9Z0km_",
        "colab_type": "code",
        "colab": {
          "base_uri": "https://localhost:8080/",
          "height": 35
        },
        "outputId": "53bb18e6-b3e1-4d5f-ae4e-299637ff2ea9"
      },
      "source": [
        "import numpy as np\n",
        "import pandas as pd\n",
        "import matplotlib.pyplot as plt\n",
        "import seaborn as sns \n",
        "%matplotlib inline \n",
        "\n",
        "print(\"Setup complete\")"
      ],
      "execution_count": 8,
      "outputs": [
        {
          "output_type": "stream",
          "text": [
            "Setup complete\n"
          ],
          "name": "stdout"
        }
      ]
    },
    {
      "cell_type": "code",
      "metadata": {
        "id": "ZbQmpN2L072L",
        "colab_type": "code",
        "colab": {
          "base_uri": "https://localhost:8080/",
          "height": 35
        },
        "outputId": "ffcbaa48-9f3a-43ba-f508-cecf682422b3"
      },
      "source": [
        "kc_properties = pd.read_csv(\"/content/kc_house_data.csv\")\n",
        "print(\"Success\")"
      ],
      "execution_count": 9,
      "outputs": [
        {
          "output_type": "stream",
          "text": [
            "Success\n"
          ],
          "name": "stdout"
        }
      ]
    },
    {
      "cell_type": "code",
      "metadata": {
        "id": "Qo7vqgFEfAUQ",
        "colab_type": "code",
        "colab": {
          "base_uri": "https://localhost:8080/",
          "height": 35
        },
        "outputId": "49f305bc-ec0a-49cf-e21c-6f4fcc090cb3"
      },
      "source": [
        "kc_properties.shape"
      ],
      "execution_count": 10,
      "outputs": [
        {
          "output_type": "execute_result",
          "data": {
            "text/plain": [
              "(21613, 21)"
            ]
          },
          "metadata": {
            "tags": []
          },
          "execution_count": 10
        }
      ]
    },
    {
      "cell_type": "markdown",
      "metadata": {
        "id": "RT3y3tvyfEMD",
        "colab_type": "text"
      },
      "source": [
        "* There are 21,613 rows (houses) and 21 columns (features) in this data "
      ]
    },
    {
      "cell_type": "code",
      "metadata": {
        "id": "rtTD6uGk1OXb",
        "colab_type": "code",
        "colab": {
          "base_uri": "https://localhost:8080/",
          "height": 217
        },
        "outputId": "aec39c25-3b89-4207-af41-f23c4f5ff12b"
      },
      "source": [
        "kc_properties.head()"
      ],
      "execution_count": 11,
      "outputs": [
        {
          "output_type": "execute_result",
          "data": {
            "text/html": [
              "<div>\n",
              "<style scoped>\n",
              "    .dataframe tbody tr th:only-of-type {\n",
              "        vertical-align: middle;\n",
              "    }\n",
              "\n",
              "    .dataframe tbody tr th {\n",
              "        vertical-align: top;\n",
              "    }\n",
              "\n",
              "    .dataframe thead th {\n",
              "        text-align: right;\n",
              "    }\n",
              "</style>\n",
              "<table border=\"1\" class=\"dataframe\">\n",
              "  <thead>\n",
              "    <tr style=\"text-align: right;\">\n",
              "      <th></th>\n",
              "      <th>id</th>\n",
              "      <th>date</th>\n",
              "      <th>price</th>\n",
              "      <th>bedrooms</th>\n",
              "      <th>bathrooms</th>\n",
              "      <th>sqft_living</th>\n",
              "      <th>sqft_lot</th>\n",
              "      <th>floors</th>\n",
              "      <th>waterfront</th>\n",
              "      <th>view</th>\n",
              "      <th>condition</th>\n",
              "      <th>grade</th>\n",
              "      <th>sqft_above</th>\n",
              "      <th>sqft_basement</th>\n",
              "      <th>yr_built</th>\n",
              "      <th>yr_renovated</th>\n",
              "      <th>zipcode</th>\n",
              "      <th>lat</th>\n",
              "      <th>long</th>\n",
              "      <th>sqft_living15</th>\n",
              "      <th>sqft_lot15</th>\n",
              "    </tr>\n",
              "  </thead>\n",
              "  <tbody>\n",
              "    <tr>\n",
              "      <th>0</th>\n",
              "      <td>7129300520</td>\n",
              "      <td>20141013T000000</td>\n",
              "      <td>221900.0</td>\n",
              "      <td>3</td>\n",
              "      <td>1.00</td>\n",
              "      <td>1180</td>\n",
              "      <td>5650</td>\n",
              "      <td>1.0</td>\n",
              "      <td>0</td>\n",
              "      <td>0</td>\n",
              "      <td>3</td>\n",
              "      <td>7</td>\n",
              "      <td>1180</td>\n",
              "      <td>0</td>\n",
              "      <td>1955</td>\n",
              "      <td>0</td>\n",
              "      <td>98178</td>\n",
              "      <td>47.5112</td>\n",
              "      <td>-122.257</td>\n",
              "      <td>1340</td>\n",
              "      <td>5650</td>\n",
              "    </tr>\n",
              "    <tr>\n",
              "      <th>1</th>\n",
              "      <td>6414100192</td>\n",
              "      <td>20141209T000000</td>\n",
              "      <td>538000.0</td>\n",
              "      <td>3</td>\n",
              "      <td>2.25</td>\n",
              "      <td>2570</td>\n",
              "      <td>7242</td>\n",
              "      <td>2.0</td>\n",
              "      <td>0</td>\n",
              "      <td>0</td>\n",
              "      <td>3</td>\n",
              "      <td>7</td>\n",
              "      <td>2170</td>\n",
              "      <td>400</td>\n",
              "      <td>1951</td>\n",
              "      <td>1991</td>\n",
              "      <td>98125</td>\n",
              "      <td>47.7210</td>\n",
              "      <td>-122.319</td>\n",
              "      <td>1690</td>\n",
              "      <td>7639</td>\n",
              "    </tr>\n",
              "    <tr>\n",
              "      <th>2</th>\n",
              "      <td>5631500400</td>\n",
              "      <td>20150225T000000</td>\n",
              "      <td>180000.0</td>\n",
              "      <td>2</td>\n",
              "      <td>1.00</td>\n",
              "      <td>770</td>\n",
              "      <td>10000</td>\n",
              "      <td>1.0</td>\n",
              "      <td>0</td>\n",
              "      <td>0</td>\n",
              "      <td>3</td>\n",
              "      <td>6</td>\n",
              "      <td>770</td>\n",
              "      <td>0</td>\n",
              "      <td>1933</td>\n",
              "      <td>0</td>\n",
              "      <td>98028</td>\n",
              "      <td>47.7379</td>\n",
              "      <td>-122.233</td>\n",
              "      <td>2720</td>\n",
              "      <td>8062</td>\n",
              "    </tr>\n",
              "    <tr>\n",
              "      <th>3</th>\n",
              "      <td>2487200875</td>\n",
              "      <td>20141209T000000</td>\n",
              "      <td>604000.0</td>\n",
              "      <td>4</td>\n",
              "      <td>3.00</td>\n",
              "      <td>1960</td>\n",
              "      <td>5000</td>\n",
              "      <td>1.0</td>\n",
              "      <td>0</td>\n",
              "      <td>0</td>\n",
              "      <td>5</td>\n",
              "      <td>7</td>\n",
              "      <td>1050</td>\n",
              "      <td>910</td>\n",
              "      <td>1965</td>\n",
              "      <td>0</td>\n",
              "      <td>98136</td>\n",
              "      <td>47.5208</td>\n",
              "      <td>-122.393</td>\n",
              "      <td>1360</td>\n",
              "      <td>5000</td>\n",
              "    </tr>\n",
              "    <tr>\n",
              "      <th>4</th>\n",
              "      <td>1954400510</td>\n",
              "      <td>20150218T000000</td>\n",
              "      <td>510000.0</td>\n",
              "      <td>3</td>\n",
              "      <td>2.00</td>\n",
              "      <td>1680</td>\n",
              "      <td>8080</td>\n",
              "      <td>1.0</td>\n",
              "      <td>0</td>\n",
              "      <td>0</td>\n",
              "      <td>3</td>\n",
              "      <td>8</td>\n",
              "      <td>1680</td>\n",
              "      <td>0</td>\n",
              "      <td>1987</td>\n",
              "      <td>0</td>\n",
              "      <td>98074</td>\n",
              "      <td>47.6168</td>\n",
              "      <td>-122.045</td>\n",
              "      <td>1800</td>\n",
              "      <td>7503</td>\n",
              "    </tr>\n",
              "  </tbody>\n",
              "</table>\n",
              "</div>"
            ],
            "text/plain": [
              "           id             date     price  ...     long  sqft_living15  sqft_lot15\n",
              "0  7129300520  20141013T000000  221900.0  ... -122.257           1340        5650\n",
              "1  6414100192  20141209T000000  538000.0  ... -122.319           1690        7639\n",
              "2  5631500400  20150225T000000  180000.0  ... -122.233           2720        8062\n",
              "3  2487200875  20141209T000000  604000.0  ... -122.393           1360        5000\n",
              "4  1954400510  20150218T000000  510000.0  ... -122.045           1800        7503\n",
              "\n",
              "[5 rows x 21 columns]"
            ]
          },
          "metadata": {
            "tags": []
          },
          "execution_count": 11
        }
      ]
    },
    {
      "cell_type": "markdown",
      "metadata": {
        "id": "dW7ai5w_fOIG",
        "colab_type": "text"
      },
      "source": [
        "**DESCRIPTION OF THE DATA**"
      ]
    },
    {
      "cell_type": "markdown",
      "metadata": {
        "id": "0s90UWYIfRJW",
        "colab_type": "text"
      },
      "source": [
        "**Below is a brief description of the columns in the data**"
      ]
    },
    {
      "cell_type": "markdown",
      "metadata": {
        "id": "uI1wiCykfWhZ",
        "colab_type": "text"
      },
      "source": [
        "* **id** - the identification number of the house\n",
        "* **date** - the date the house was sold \n",
        "* **price** - the predicted price of the house \n",
        "* **bedrooms** - th e number of bedrooms in the house\n",
        "* **bathrooms** - the numbe rof bathrooms in the house \n",
        "* **sqft_living** - square footage of the house \n",
        "* **sqft_lot**- square footage of the parking lot \n",
        "* **floors** - total numbe rof floors in the house \n",
        "* **waterfront**- If the house has a waterfront view (1 for yes)\n",
        "* **view** - how many times the house has been viewed \n",
        "* **condition** - How good the condition of the house is (5 is excellent)\n",
        "* **grade** - overall grade given to the house based on Kings County standards (13 is excellent)\n",
        "* **sqft_above** - square footage of the house apart from basement \n",
        "* **sqft_basement** - square footage of the basement \n",
        "* **yr_built** - the year the house was built \n",
        "* **yr_renovated** - Year the house was renovated \n",
        "* **zipcode** - ZIP of the house \n",
        "* **lat** - latitude of the house \n",
        "* **long** - lobgitude of the house \n",
        "* **sqft_living15** - living room area in 2015 (if there has been renovations)\n",
        "* **sqft_lot15** - parking lot area in 2015 (if there has been renovations)"
      ]
    },
    {
      "cell_type": "code",
      "metadata": {
        "id": "XmyJPUnt1m83",
        "colab_type": "code",
        "colab": {
          "base_uri": "https://localhost:8080/",
          "height": 530
        },
        "outputId": "4803ceee-cfcf-48ec-f64d-d4cdb84374da"
      },
      "source": [
        "kc_properties.info()"
      ],
      "execution_count": 12,
      "outputs": [
        {
          "output_type": "stream",
          "text": [
            "<class 'pandas.core.frame.DataFrame'>\n",
            "RangeIndex: 21613 entries, 0 to 21612\n",
            "Data columns (total 21 columns):\n",
            " #   Column         Non-Null Count  Dtype  \n",
            "---  ------         --------------  -----  \n",
            " 0   id             21613 non-null  int64  \n",
            " 1   date           21613 non-null  object \n",
            " 2   price          21613 non-null  float64\n",
            " 3   bedrooms       21613 non-null  int64  \n",
            " 4   bathrooms      21613 non-null  float64\n",
            " 5   sqft_living    21613 non-null  int64  \n",
            " 6   sqft_lot       21613 non-null  int64  \n",
            " 7   floors         21613 non-null  float64\n",
            " 8   waterfront     21613 non-null  int64  \n",
            " 9   view           21613 non-null  int64  \n",
            " 10  condition      21613 non-null  int64  \n",
            " 11  grade          21613 non-null  int64  \n",
            " 12  sqft_above     21613 non-null  int64  \n",
            " 13  sqft_basement  21613 non-null  int64  \n",
            " 14  yr_built       21613 non-null  int64  \n",
            " 15  yr_renovated   21613 non-null  int64  \n",
            " 16  zipcode        21613 non-null  int64  \n",
            " 17  lat            21613 non-null  float64\n",
            " 18  long           21613 non-null  float64\n",
            " 19  sqft_living15  21613 non-null  int64  \n",
            " 20  sqft_lot15     21613 non-null  int64  \n",
            "dtypes: float64(5), int64(15), object(1)\n",
            "memory usage: 3.5+ MB\n"
          ],
          "name": "stdout"
        }
      ]
    },
    {
      "cell_type": "markdown",
      "metadata": {
        "id": "ux5uzIL8G8gY",
        "colab_type": "text"
      },
      "source": [
        "The data is clean for analysis \n",
        "\n",
        "There are no missing values \n",
        "\n",
        "Lets proceed to see how each of the features affects the price "
      ]
    },
    {
      "cell_type": "markdown",
      "metadata": {
        "id": "X9_K1lFdHZoT",
        "colab_type": "text"
      },
      "source": [
        "###BEDROOMS"
      ]
    },
    {
      "cell_type": "markdown",
      "metadata": {
        "id": "NDzAmrlBIRJZ",
        "colab_type": "text"
      },
      "source": [
        "**HOUSES BY NUMBER OF ROOMS**"
      ]
    },
    {
      "cell_type": "code",
      "metadata": {
        "id": "AhyZEUUR1tgB",
        "colab_type": "code",
        "colab": {
          "base_uri": "https://localhost:8080/",
          "height": 437
        },
        "outputId": "e0cccd9d-4c80-4eac-b069-9c151b023b29"
      },
      "source": [
        "bedrooms_grp = kc_properties.groupby('bedrooms', as_index = False)['id'].count()\n",
        "bedrooms_grp.rename(columns = {'id': 'No of houses', 'bedrooms':'No of bedrooms'}, inplace = True)\n",
        "bedroom_grp = bedrooms_grp.sort_values('No of houses', ascending = False)\n",
        "bedroom_grp"
      ],
      "execution_count": 45,
      "outputs": [
        {
          "output_type": "execute_result",
          "data": {
            "text/html": [
              "<div>\n",
              "<style scoped>\n",
              "    .dataframe tbody tr th:only-of-type {\n",
              "        vertical-align: middle;\n",
              "    }\n",
              "\n",
              "    .dataframe tbody tr th {\n",
              "        vertical-align: top;\n",
              "    }\n",
              "\n",
              "    .dataframe thead th {\n",
              "        text-align: right;\n",
              "    }\n",
              "</style>\n",
              "<table border=\"1\" class=\"dataframe\">\n",
              "  <thead>\n",
              "    <tr style=\"text-align: right;\">\n",
              "      <th></th>\n",
              "      <th>No of bedrooms</th>\n",
              "      <th>No of houses</th>\n",
              "    </tr>\n",
              "  </thead>\n",
              "  <tbody>\n",
              "    <tr>\n",
              "      <th>3</th>\n",
              "      <td>3</td>\n",
              "      <td>9824</td>\n",
              "    </tr>\n",
              "    <tr>\n",
              "      <th>4</th>\n",
              "      <td>4</td>\n",
              "      <td>6882</td>\n",
              "    </tr>\n",
              "    <tr>\n",
              "      <th>2</th>\n",
              "      <td>2</td>\n",
              "      <td>2760</td>\n",
              "    </tr>\n",
              "    <tr>\n",
              "      <th>5</th>\n",
              "      <td>5</td>\n",
              "      <td>1601</td>\n",
              "    </tr>\n",
              "    <tr>\n",
              "      <th>6</th>\n",
              "      <td>6</td>\n",
              "      <td>272</td>\n",
              "    </tr>\n",
              "    <tr>\n",
              "      <th>1</th>\n",
              "      <td>1</td>\n",
              "      <td>199</td>\n",
              "    </tr>\n",
              "    <tr>\n",
              "      <th>7</th>\n",
              "      <td>7</td>\n",
              "      <td>38</td>\n",
              "    </tr>\n",
              "    <tr>\n",
              "      <th>0</th>\n",
              "      <td>0</td>\n",
              "      <td>13</td>\n",
              "    </tr>\n",
              "    <tr>\n",
              "      <th>8</th>\n",
              "      <td>8</td>\n",
              "      <td>13</td>\n",
              "    </tr>\n",
              "    <tr>\n",
              "      <th>9</th>\n",
              "      <td>9</td>\n",
              "      <td>6</td>\n",
              "    </tr>\n",
              "    <tr>\n",
              "      <th>10</th>\n",
              "      <td>10</td>\n",
              "      <td>3</td>\n",
              "    </tr>\n",
              "    <tr>\n",
              "      <th>11</th>\n",
              "      <td>11</td>\n",
              "      <td>1</td>\n",
              "    </tr>\n",
              "    <tr>\n",
              "      <th>12</th>\n",
              "      <td>33</td>\n",
              "      <td>1</td>\n",
              "    </tr>\n",
              "  </tbody>\n",
              "</table>\n",
              "</div>"
            ],
            "text/plain": [
              "    No of bedrooms  No of houses\n",
              "3                3          9824\n",
              "4                4          6882\n",
              "2                2          2760\n",
              "5                5          1601\n",
              "6                6           272\n",
              "1                1           199\n",
              "7                7            38\n",
              "0                0            13\n",
              "8                8            13\n",
              "9                9             6\n",
              "10              10             3\n",
              "11              11             1\n",
              "12              33             1"
            ]
          },
          "metadata": {
            "tags": []
          },
          "execution_count": 45
        }
      ]
    },
    {
      "cell_type": "markdown",
      "metadata": {
        "id": "83EYwl4mIDm8",
        "colab_type": "text"
      },
      "source": [
        "* Most of the houses in Kings county has 3 bedrooms "
      ]
    },
    {
      "cell_type": "code",
      "metadata": {
        "id": "GcceEMSdH1sA",
        "colab_type": "code",
        "colab": {
          "base_uri": "https://localhost:8080/",
          "height": 404
        },
        "outputId": "2ec8d614-7db0-44cf-e9ac-e15487cae81e"
      },
      "source": [
        "plt.figure(figsize = (14, 6))\n",
        "plt.title(\"BAR CHART SHOWING NUMBER OF HOUSED IN KINGS COUNTY BY NUMBER OF ROOMS\")\n",
        "sns.countplot('bedrooms', data = kc_properties)\n",
        "plt.xlabel(\"Number of bedrooms\")\n",
        "plt.ylabel(\"Number of houses\")\n",
        "plt.show()"
      ],
      "execution_count": 57,
      "outputs": [
        {
          "output_type": "display_data",
          "data": {
            "image/png": "[encoded data removed]",
            "text/plain": [
              "<Figure size 1008x432 with 1 Axes>"
            ]
          },
          "metadata": {
            "tags": [],
            "needs_background": "light"
          }
        }
      ]
    },
    {
      "cell_type": "markdown",
      "metadata": {
        "id": "g-qEtSdEJokc",
        "colab_type": "text"
      },
      "source": [
        "* The bar chart shows that most houses have 3 bedroo followed by 4 bedrooms "
      ]
    },
    {
      "cell_type": "markdown",
      "metadata": {
        "id": "pBYdx_2IJwus",
        "colab_type": "text"
      },
      "source": [
        "**HOW NUMBER OF BEDROOMS AFFECT THE PRICING OF THE HOUSES**"
      ]
    },
    {
      "cell_type": "code",
      "metadata": {
        "id": "PR_ifV-CIpM2",
        "colab_type": "code",
        "colab": {
          "base_uri": "https://localhost:8080/",
          "height": 437
        },
        "outputId": "4d9edbf3-8878-4fb4-f512-315124830055"
      },
      "source": [
        "room_grp = kc_properties.groupby('bedrooms', as_index = False)['price'].mean()\n",
        "room_grp.rename(columns = {'price': 'Average price', 'bedrooms': 'No of bedrooms' }, inplace = True)\n",
        "room_grp = room_grp.sort_values('Average price', ascending = False)\n",
        "room_grp"
      ],
      "execution_count": 46,
      "outputs": [
        {
          "output_type": "execute_result",
          "data": {
            "text/html": [
              "<div>\n",
              "<style scoped>\n",
              "    .dataframe tbody tr th:only-of-type {\n",
              "        vertical-align: middle;\n",
              "    }\n",
              "\n",
              "    .dataframe tbody tr th {\n",
              "        vertical-align: top;\n",
              "    }\n",
              "\n",
              "    .dataframe thead th {\n",
              "        text-align: right;\n",
              "    }\n",
              "</style>\n",
              "<table border=\"1\" class=\"dataframe\">\n",
              "  <thead>\n",
              "    <tr style=\"text-align: right;\">\n",
              "      <th></th>\n",
              "      <th>No of bedrooms</th>\n",
              "      <th>Average price</th>\n",
              "    </tr>\n",
              "  </thead>\n",
              "  <tbody>\n",
              "    <tr>\n",
              "      <th>8</th>\n",
              "      <td>8</td>\n",
              "      <td>1.105077e+06</td>\n",
              "    </tr>\n",
              "    <tr>\n",
              "      <th>7</th>\n",
              "      <td>7</td>\n",
              "      <td>9.511847e+05</td>\n",
              "    </tr>\n",
              "    <tr>\n",
              "      <th>9</th>\n",
              "      <td>9</td>\n",
              "      <td>8.939998e+05</td>\n",
              "    </tr>\n",
              "    <tr>\n",
              "      <th>6</th>\n",
              "      <td>6</td>\n",
              "      <td>8.255206e+05</td>\n",
              "    </tr>\n",
              "    <tr>\n",
              "      <th>10</th>\n",
              "      <td>10</td>\n",
              "      <td>8.193333e+05</td>\n",
              "    </tr>\n",
              "    <tr>\n",
              "      <th>5</th>\n",
              "      <td>5</td>\n",
              "      <td>7.865998e+05</td>\n",
              "    </tr>\n",
              "    <tr>\n",
              "      <th>12</th>\n",
              "      <td>33</td>\n",
              "      <td>6.400000e+05</td>\n",
              "    </tr>\n",
              "    <tr>\n",
              "      <th>4</th>\n",
              "      <td>4</td>\n",
              "      <td>6.354195e+05</td>\n",
              "    </tr>\n",
              "    <tr>\n",
              "      <th>11</th>\n",
              "      <td>11</td>\n",
              "      <td>5.200000e+05</td>\n",
              "    </tr>\n",
              "    <tr>\n",
              "      <th>3</th>\n",
              "      <td>3</td>\n",
              "      <td>4.662321e+05</td>\n",
              "    </tr>\n",
              "    <tr>\n",
              "      <th>0</th>\n",
              "      <td>0</td>\n",
              "      <td>4.095038e+05</td>\n",
              "    </tr>\n",
              "    <tr>\n",
              "      <th>2</th>\n",
              "      <td>2</td>\n",
              "      <td>4.013727e+05</td>\n",
              "    </tr>\n",
              "    <tr>\n",
              "      <th>1</th>\n",
              "      <td>1</td>\n",
              "      <td>3.176429e+05</td>\n",
              "    </tr>\n",
              "  </tbody>\n",
              "</table>\n",
              "</div>"
            ],
            "text/plain": [
              "    No of bedrooms  Average price\n",
              "8                8   1.105077e+06\n",
              "7                7   9.511847e+05\n",
              "9                9   8.939998e+05\n",
              "6                6   8.255206e+05\n",
              "10              10   8.193333e+05\n",
              "5                5   7.865998e+05\n",
              "12              33   6.400000e+05\n",
              "4                4   6.354195e+05\n",
              "11              11   5.200000e+05\n",
              "3                3   4.662321e+05\n",
              "0                0   4.095038e+05\n",
              "2                2   4.013727e+05\n",
              "1                1   3.176429e+05"
            ]
          },
          "metadata": {
            "tags": []
          },
          "execution_count": 46
        }
      ]
    },
    {
      "cell_type": "markdown",
      "metadata": {
        "id": "wtv-_9pD83GJ",
        "colab_type": "text"
      },
      "source": [
        "* Houses with 8 bedrooms have the highest average price in Kings county"
      ]
    },
    {
      "cell_type": "code",
      "metadata": {
        "id": "jKlI37BJ9UfY",
        "colab_type": "code",
        "colab": {}
      },
      "source": [
        ""
      ],
      "execution_count": null,
      "outputs": []
    }
  ]
}