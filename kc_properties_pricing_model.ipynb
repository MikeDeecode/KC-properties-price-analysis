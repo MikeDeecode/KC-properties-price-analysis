{
  "nbformat": 4,
  "nbformat_minor": 0,
  "metadata": {
    "colab": {
      "name": "kc-properties-pricing-model.ipynb",
      "provenance": [],
      "authorship_tag": "ABX9TyNFGQbnCcec42cRvPDUSe4n",
      "include_colab_link": true
    },
    "kernelspec": {
      "name": "python3",
      "display_name": "Python 3"
    }
  },
  "cells": [
    {
      "cell_type": "markdown",
      "metadata": {
        "id": "view-in-github",
        "colab_type": "text"
      },
      "source": [
        "<a href=\"https://colab.research.google.com/github/MikeDeecode/KC-properties-price-analysis/blob/master/kc_properties_pricing_model.ipynb\" target=\"_parent\"><img src=\"https://colab.research.google.com/assets/colab-badge.svg\" alt=\"Open In Colab\"/></a>"
      ]
    },
    {
      "cell_type": "markdown",
      "metadata": {
        "id": "uf_qjCnguFwD",
        "colab_type": "text"
      },
      "source": [
        "#**MULTIPLE LINEAR REGRESSION MODEL FOR THE PRICE PREDICTION OF HOUSES IN KINGS COUNTY, WASHINGTO STATE, USA**"
      ]
    },
    {
      "cell_type": "markdown",
      "metadata": {
        "id": "OFC8VPz_vAWh",
        "colab_type": "text"
      },
      "source": [
        "Import the required libraries for preprocessing and setup "
      ]
    },
    {
      "cell_type": "code",
      "metadata": {
        "id": "g9xAJDna2fXl",
        "colab_type": "code",
        "colab": {
          "base_uri": "https://localhost:8080/",
          "height": 35
        },
        "outputId": "ffdc76e9-c963-48cc-c68f-d51081480589"
      },
      "source": [
        "import numpy as np \n",
        "import pandas as pd\n",
        "import warnings\n",
        "warnings.filterwarnings('ignore')\n",
        "\n",
        "print(\"Setup complete\")"
      ],
      "execution_count": null,
      "outputs": [
        {
          "output_type": "stream",
          "text": [
            "Setup complete\n"
          ],
          "name": "stdout"
        }
      ]
    },
    {
      "cell_type": "markdown",
      "metadata": {
        "id": "3iTfagz1vF68",
        "colab_type": "text"
      },
      "source": [
        "Loading the dataset"
      ]
    },
    {
      "cell_type": "code",
      "metadata": {
        "id": "GMWa0wei2y8G",
        "colab_type": "code",
        "colab": {
          "base_uri": "https://localhost:8080/",
          "height": 35
        },
        "outputId": "c703679e-30a3-47f0-b089-571ee471a097"
      },
      "source": [
        "kc_properties = pd.read_csv(\"/content/kc_house_data.csv\")\n",
        "print(\"Successful\")"
      ],
      "execution_count": null,
      "outputs": [
        {
          "output_type": "stream",
          "text": [
            "Successful\n"
          ],
          "name": "stdout"
        }
      ]
    },
    {
      "cell_type": "code",
      "metadata": {
        "id": "X_PXBGmGvW7c",
        "colab_type": "code",
        "colab": {
          "base_uri": "https://localhost:8080/",
          "height": 217
        },
        "outputId": "869f74aa-e69b-48a6-ff7a-ff4b67853ed5"
      },
      "source": [
        "kc_properties.head()"
      ],
      "execution_count": null,
      "outputs": [
        {
          "output_type": "execute_result",
          "data": {
            "text/html": [
              "<div>\n",
              "<style scoped>\n",
              "    .dataframe tbody tr th:only-of-type {\n",
              "        vertical-align: middle;\n",
              "    }\n",
              "\n",
              "    .dataframe tbody tr th {\n",
              "        vertical-align: top;\n",
              "    }\n",
              "\n",
              "    .dataframe thead th {\n",
              "        text-align: right;\n",
              "    }\n",
              "</style>\n",
              "<table border=\"1\" class=\"dataframe\">\n",
              "  <thead>\n",
              "    <tr style=\"text-align: right;\">\n",
              "      <th></th>\n",
              "      <th>id</th>\n",
              "      <th>date</th>\n",
              "      <th>price</th>\n",
              "      <th>bedrooms</th>\n",
              "      <th>bathrooms</th>\n",
              "      <th>sqft_living</th>\n",
              "      <th>sqft_lot</th>\n",
              "      <th>floors</th>\n",
              "      <th>waterfront</th>\n",
              "      <th>view</th>\n",
              "      <th>condition</th>\n",
              "      <th>grade</th>\n",
              "      <th>sqft_above</th>\n",
              "      <th>sqft_basement</th>\n",
              "      <th>yr_built</th>\n",
              "      <th>yr_renovated</th>\n",
              "      <th>zipcode</th>\n",
              "      <th>lat</th>\n",
              "      <th>long</th>\n",
              "      <th>sqft_living15</th>\n",
              "      <th>sqft_lot15</th>\n",
              "    </tr>\n",
              "  </thead>\n",
              "  <tbody>\n",
              "    <tr>\n",
              "      <th>0</th>\n",
              "      <td>7129300520</td>\n",
              "      <td>20141013T000000</td>\n",
              "      <td>221900.0</td>\n",
              "      <td>3</td>\n",
              "      <td>1.00</td>\n",
              "      <td>1180</td>\n",
              "      <td>5650</td>\n",
              "      <td>1.0</td>\n",
              "      <td>0</td>\n",
              "      <td>0</td>\n",
              "      <td>3</td>\n",
              "      <td>7</td>\n",
              "      <td>1180</td>\n",
              "      <td>0</td>\n",
              "      <td>1955</td>\n",
              "      <td>0</td>\n",
              "      <td>98178</td>\n",
              "      <td>47.5112</td>\n",
              "      <td>-122.257</td>\n",
              "      <td>1340</td>\n",
              "      <td>5650</td>\n",
              "    </tr>\n",
              "    <tr>\n",
              "      <th>1</th>\n",
              "      <td>6414100192</td>\n",
              "      <td>20141209T000000</td>\n",
              "      <td>538000.0</td>\n",
              "      <td>3</td>\n",
              "      <td>2.25</td>\n",
              "      <td>2570</td>\n",
              "      <td>7242</td>\n",
              "      <td>2.0</td>\n",
              "      <td>0</td>\n",
              "      <td>0</td>\n",
              "      <td>3</td>\n",
              "      <td>7</td>\n",
              "      <td>2170</td>\n",
              "      <td>400</td>\n",
              "      <td>1951</td>\n",
              "      <td>1991</td>\n",
              "      <td>98125</td>\n",
              "      <td>47.7210</td>\n",
              "      <td>-122.319</td>\n",
              "      <td>1690</td>\n",
              "      <td>7639</td>\n",
              "    </tr>\n",
              "    <tr>\n",
              "      <th>2</th>\n",
              "      <td>5631500400</td>\n",
              "      <td>20150225T000000</td>\n",
              "      <td>180000.0</td>\n",
              "      <td>2</td>\n",
              "      <td>1.00</td>\n",
              "      <td>770</td>\n",
              "      <td>10000</td>\n",
              "      <td>1.0</td>\n",
              "      <td>0</td>\n",
              "      <td>0</td>\n",
              "      <td>3</td>\n",
              "      <td>6</td>\n",
              "      <td>770</td>\n",
              "      <td>0</td>\n",
              "      <td>1933</td>\n",
              "      <td>0</td>\n",
              "      <td>98028</td>\n",
              "      <td>47.7379</td>\n",
              "      <td>-122.233</td>\n",
              "      <td>2720</td>\n",
              "      <td>8062</td>\n",
              "    </tr>\n",
              "    <tr>\n",
              "      <th>3</th>\n",
              "      <td>2487200875</td>\n",
              "      <td>20141209T000000</td>\n",
              "      <td>604000.0</td>\n",
              "      <td>4</td>\n",
              "      <td>3.00</td>\n",
              "      <td>1960</td>\n",
              "      <td>5000</td>\n",
              "      <td>1.0</td>\n",
              "      <td>0</td>\n",
              "      <td>0</td>\n",
              "      <td>5</td>\n",
              "      <td>7</td>\n",
              "      <td>1050</td>\n",
              "      <td>910</td>\n",
              "      <td>1965</td>\n",
              "      <td>0</td>\n",
              "      <td>98136</td>\n",
              "      <td>47.5208</td>\n",
              "      <td>-122.393</td>\n",
              "      <td>1360</td>\n",
              "      <td>5000</td>\n",
              "    </tr>\n",
              "    <tr>\n",
              "      <th>4</th>\n",
              "      <td>1954400510</td>\n",
              "      <td>20150218T000000</td>\n",
              "      <td>510000.0</td>\n",
              "      <td>3</td>\n",
              "      <td>2.00</td>\n",
              "      <td>1680</td>\n",
              "      <td>8080</td>\n",
              "      <td>1.0</td>\n",
              "      <td>0</td>\n",
              "      <td>0</td>\n",
              "      <td>3</td>\n",
              "      <td>8</td>\n",
              "      <td>1680</td>\n",
              "      <td>0</td>\n",
              "      <td>1987</td>\n",
              "      <td>0</td>\n",
              "      <td>98074</td>\n",
              "      <td>47.6168</td>\n",
              "      <td>-122.045</td>\n",
              "      <td>1800</td>\n",
              "      <td>7503</td>\n",
              "    </tr>\n",
              "  </tbody>\n",
              "</table>\n",
              "</div>"
            ],
            "text/plain": [
              "           id             date     price  ...     long  sqft_living15  sqft_lot15\n",
              "0  7129300520  20141013T000000  221900.0  ... -122.257           1340        5650\n",
              "1  6414100192  20141209T000000  538000.0  ... -122.319           1690        7639\n",
              "2  5631500400  20150225T000000  180000.0  ... -122.233           2720        8062\n",
              "3  2487200875  20141209T000000  604000.0  ... -122.393           1360        5000\n",
              "4  1954400510  20150218T000000  510000.0  ... -122.045           1800        7503\n",
              "\n",
              "[5 rows x 21 columns]"
            ]
          },
          "metadata": {
            "tags": []
          },
          "execution_count": 7
        }
      ]
    },
    {
      "cell_type": "code",
      "metadata": {
        "id": "jE1ncpauvZ2y",
        "colab_type": "code",
        "colab": {
          "base_uri": "https://localhost:8080/",
          "height": 530
        },
        "outputId": "1838d44e-3300-4a04-e92c-445d382352d9"
      },
      "source": [
        "kc_properties.info()"
      ],
      "execution_count": null,
      "outputs": [
        {
          "output_type": "stream",
          "text": [
            "<class 'pandas.core.frame.DataFrame'>\n",
            "RangeIndex: 21613 entries, 0 to 21612\n",
            "Data columns (total 21 columns):\n",
            " #   Column         Non-Null Count  Dtype  \n",
            "---  ------         --------------  -----  \n",
            " 0   id             21613 non-null  int64  \n",
            " 1   date           21613 non-null  object \n",
            " 2   price          21613 non-null  float64\n",
            " 3   bedrooms       21613 non-null  int64  \n",
            " 4   bathrooms      21613 non-null  float64\n",
            " 5   sqft_living    21613 non-null  int64  \n",
            " 6   sqft_lot       21613 non-null  int64  \n",
            " 7   floors         21613 non-null  float64\n",
            " 8   waterfront     21613 non-null  int64  \n",
            " 9   view           21613 non-null  int64  \n",
            " 10  condition      21613 non-null  int64  \n",
            " 11  grade          21613 non-null  int64  \n",
            " 12  sqft_above     21613 non-null  int64  \n",
            " 13  sqft_basement  21613 non-null  int64  \n",
            " 14  yr_built       21613 non-null  int64  \n",
            " 15  yr_renovated   21613 non-null  int64  \n",
            " 16  zipcode        21613 non-null  int64  \n",
            " 17  lat            21613 non-null  float64\n",
            " 18  long           21613 non-null  float64\n",
            " 19  sqft_living15  21613 non-null  int64  \n",
            " 20  sqft_lot15     21613 non-null  int64  \n",
            "dtypes: float64(5), int64(15), object(1)\n",
            "memory usage: 3.5+ MB\n"
          ],
          "name": "stdout"
        }
      ]
    },
    {
      "cell_type": "markdown",
      "metadata": {
        "id": "pP-p3Rjvv23L",
        "colab_type": "text"
      },
      "source": [
        "###FEATURE SELECTION"
      ]
    },
    {
      "cell_type": "markdown",
      "metadata": {
        "id": "J4hfZQmVwikJ",
        "colab_type": "text"
      },
      "source": [
        "**Here we select the features to be used for the model**"
      ]
    },
    {
      "cell_type": "markdown",
      "metadata": {
        "id": "iw6YLmQqwweY",
        "colab_type": "text"
      },
      "source": [
        "I will use the features that affect the pricing of the house significantly based on my analysis contained in a seperate file in my github repository"
      ]
    },
    {
      "cell_type": "markdown",
      "metadata": {
        "id": "ey8fUihMw_o8",
        "colab_type": "text"
      },
      "source": [
        "The following features will be used as the independent variables \n",
        "\n",
        "* Number of bedrooms (bedrooms)\n",
        "* Number of bathrooms (bathrooms)\n",
        "* Square footage of living room (sqfr_living)\n",
        "* Number of floors (floors)\n",
        "* Waterfront presence - 1 for yes and 0 for no (waterfront)\n",
        "* Number of times the house was viewed (view)\n",
        "* Condition of the house - 5 is excellent (condition)\n",
        "* grade of the houses based on Kings county standards - 13 is the best (grade)"
      ]
    },
    {
      "cell_type": "markdown",
      "metadata": {
        "id": "uHE0qPfKy-4I",
        "colab_type": "text"
      },
      "source": [
        "The target variable is the price of the house because that is what we are tryimg to predict "
      ]
    },
    {
      "cell_type": "markdown",
      "metadata": {
        "id": "h6jEfHV9zF98",
        "colab_type": "text"
      },
      "source": [
        "Lets get to work"
      ]
    },
    {
      "cell_type": "markdown",
      "metadata": {
        "id": "5FILKPkHzH42",
        "colab_type": "text"
      },
      "source": [
        "###**CREATING TRAINING AND TESTING DATASETS**"
      ]
    },
    {
      "cell_type": "code",
      "metadata": {
        "id": "EjzJ7hJUzYq9",
        "colab_type": "code",
        "colab": {}
      },
      "source": [
        "features_df = kc_properties[['bedrooms', 'bathrooms', 'sqft_living', 'floors', 'waterfront', 'view', 'condition'\n",
        ", 'grade', 'price']]"
      ],
      "execution_count": null,
      "outputs": []
    },
    {
      "cell_type": "code",
      "metadata": {
        "id": "kubtqyba0Kkd",
        "colab_type": "code",
        "colab": {}
      },
      "source": [
        "mask = np.random.rand(len(kc_properties)) < 0.8\n",
        "train = features_df[mask]\n",
        "test = features_df[~mask]"
      ],
      "execution_count": null,
      "outputs": []
    },
    {
      "cell_type": "code",
      "metadata": {
        "id": "zQbsKnrD0kVQ",
        "colab_type": "code",
        "colab": {
          "base_uri": "https://localhost:8080/",
          "height": 35
        },
        "outputId": "fc60803e-4749-4b71-e687-ed9ca4900a7c"
      },
      "source": [
        "train.shape"
      ],
      "execution_count": null,
      "outputs": [
        {
          "output_type": "execute_result",
          "data": {
            "text/plain": [
              "(17342, 9)"
            ]
          },
          "metadata": {
            "tags": []
          },
          "execution_count": 17
        }
      ]
    },
    {
      "cell_type": "markdown",
      "metadata": {
        "id": "vnUoCuB00rVu",
        "colab_type": "text"
      },
      "source": [
        "* The training dataset has 17275 entries"
      ]
    },
    {
      "cell_type": "code",
      "metadata": {
        "id": "7ZsJb4tv0mxJ",
        "colab_type": "code",
        "colab": {
          "base_uri": "https://localhost:8080/",
          "height": 35
        },
        "outputId": "b41192e9-6cf6-4361-cdd2-fdc327934feb"
      },
      "source": [
        "test.shape"
      ],
      "execution_count": null,
      "outputs": [
        {
          "output_type": "execute_result",
          "data": {
            "text/plain": [
              "(4271, 9)"
            ]
          },
          "metadata": {
            "tags": []
          },
          "execution_count": 18
        }
      ]
    },
    {
      "cell_type": "markdown",
      "metadata": {
        "id": "MJyG-NBu00Eq",
        "colab_type": "text"
      },
      "source": [
        "* The testing dataset has 4338 entries"
      ]
    },
    {
      "cell_type": "markdown",
      "metadata": {
        "id": "ylcJcukQ04ss",
        "colab_type": "text"
      },
      "source": [
        "###**MODELING**"
      ]
    },
    {
      "cell_type": "markdown",
      "metadata": {
        "id": "GIhlUN9H1Tc2",
        "colab_type": "text"
      },
      "source": [
        "First we split the training set into independent and target variables (remembering to convert them to a numpy array)"
      ]
    },
    {
      "cell_type": "code",
      "metadata": {
        "id": "LEFG27J20n3j",
        "colab_type": "code",
        "colab": {}
      },
      "source": [
        "x = np.asanyarray(train[['bedrooms', 'bathrooms', 'sqft_living', 'floors', 'waterfront', 'view', 'condition', 'grade']])\n",
        "y = np.asanyarray(train[['price']])"
      ],
      "execution_count": null,
      "outputs": []
    },
    {
      "cell_type": "code",
      "metadata": {
        "id": "1V7_ajwc159G",
        "colab_type": "code",
        "colab": {
          "base_uri": "https://localhost:8080/",
          "height": 200
        },
        "outputId": "de9aabd7-e3a7-4a0f-f79c-0782e0f14950"
      },
      "source": [
        "x[0:5]"
      ],
      "execution_count": null,
      "outputs": [
        {
          "output_type": "execute_result",
          "data": {
            "text/plain": [
              "array([[3.000e+00, 2.250e+00, 2.570e+03, 2.000e+00, 0.000e+00, 0.000e+00,\n",
              "        3.000e+00, 7.000e+00],\n",
              "       [3.000e+00, 2.000e+00, 1.680e+03, 1.000e+00, 0.000e+00, 0.000e+00,\n",
              "        3.000e+00, 8.000e+00],\n",
              "       [4.000e+00, 4.500e+00, 5.420e+03, 1.000e+00, 0.000e+00, 0.000e+00,\n",
              "        3.000e+00, 1.100e+01],\n",
              "       [3.000e+00, 2.250e+00, 1.715e+03, 2.000e+00, 0.000e+00, 0.000e+00,\n",
              "        3.000e+00, 7.000e+00],\n",
              "       [3.000e+00, 1.500e+00, 1.060e+03, 1.000e+00, 0.000e+00, 0.000e+00,\n",
              "        3.000e+00, 7.000e+00]])"
            ]
          },
          "metadata": {
            "tags": []
          },
          "execution_count": 21
        }
      ]
    },
    {
      "cell_type": "code",
      "metadata": {
        "id": "ASrHvZ2N17HI",
        "colab_type": "code",
        "colab": {
          "base_uri": "https://localhost:8080/",
          "height": 108
        },
        "outputId": "c609c553-c4eb-44da-c415-fb1021698f76"
      },
      "source": [
        "y[0:5]"
      ],
      "execution_count": null,
      "outputs": [
        {
          "output_type": "execute_result",
          "data": {
            "text/plain": [
              "array([[ 538000.],\n",
              "       [ 510000.],\n",
              "       [1225000.],\n",
              "       [ 257500.],\n",
              "       [ 291850.]])"
            ]
          },
          "metadata": {
            "tags": []
          },
          "execution_count": 22
        }
      ]
    },
    {
      "cell_type": "markdown",
      "metadata": {
        "id": "EvnEgV0Z2MUq",
        "colab_type": "text"
      },
      "source": [
        "Now we import the libraries for the modeling "
      ]
    },
    {
      "cell_type": "code",
      "metadata": {
        "id": "Ty4qu5KX2EaD",
        "colab_type": "code",
        "colab": {
          "base_uri": "https://localhost:8080/",
          "height": 35
        },
        "outputId": "b1ec4abf-0155-43a9-d12f-1c2fc0040083"
      },
      "source": [
        "from sklearn import linear_model\n",
        "model = linear_model.LinearRegression()\n",
        "model.fit(x, y)"
      ],
      "execution_count": null,
      "outputs": [
        {
          "output_type": "execute_result",
          "data": {
            "text/plain": [
              "LinearRegression(copy_X=True, fit_intercept=True, n_jobs=None, normalize=False)"
            ]
          },
          "metadata": {
            "tags": []
          },
          "execution_count": 23
        }
      ]
    },
    {
      "cell_type": "markdown",
      "metadata": {
        "id": "rWuG0gpK2eha",
        "colab_type": "text"
      },
      "source": [
        "Lets see the co-efficients of the equation "
      ]
    },
    {
      "cell_type": "code",
      "metadata": {
        "id": "IfWycNZn2cQW",
        "colab_type": "code",
        "colab": {
          "base_uri": "https://localhost:8080/",
          "height": 53
        },
        "outputId": "961fc9aa-e2c3-4b2a-bd50-9d02c06e189c"
      },
      "source": [
        "print(\"The coefficients of the features:\", model.coef_)"
      ],
      "execution_count": null,
      "outputs": [
        {
          "output_type": "stream",
          "text": [
            "The coefficients of the features: [[-3.06274995e+04 -1.04924608e+04  1.91819199e+02 -9.59860119e+03\n",
            "   5.63088780e+05  6.32965573e+04  5.44145001e+04  9.78208574e+04]]\n"
          ],
          "name": "stdout"
        }
      ]
    },
    {
      "cell_type": "markdown",
      "metadata": {
        "id": "8UvWg0uy23vu",
        "colab_type": "text"
      },
      "source": [
        "Lets see the intercept"
      ]
    },
    {
      "cell_type": "code",
      "metadata": {
        "id": "M5r9uq0C2nGp",
        "colab_type": "code",
        "colab": {
          "base_uri": "https://localhost:8080/",
          "height": 35
        },
        "outputId": "bd1da20e-a611-4ea4-8864-b1bc54496cd4"
      },
      "source": [
        "print(\"The intercept:\", model.intercept_)"
      ],
      "execution_count": null,
      "outputs": [
        {
          "output_type": "stream",
          "text": [
            "The intercept: [-674087.72549068]\n"
          ],
          "name": "stdout"
        }
      ]
    },
    {
      "cell_type": "markdown",
      "metadata": {
        "id": "onrM0aNP3Pud",
        "colab_type": "text"
      },
      "source": [
        "###**PREDICTION OF PRICES**"
      ]
    },
    {
      "cell_type": "code",
      "metadata": {
        "id": "-n-kmr_W29QX",
        "colab_type": "code",
        "colab": {}
      },
      "source": [
        "predicted_prices = model.predict(test[['bedrooms', 'bathrooms', 'sqft_living', 'floors', 'waterfront'\n",
        ", 'view', 'condition', 'grade']])"
      ],
      "execution_count": null,
      "outputs": []
    },
    {
      "cell_type": "markdown",
      "metadata": {
        "id": "lphP6TJ44IaK",
        "colab_type": "text"
      },
      "source": [
        "###**EVALUATION OF THE MODEL**"
      ]
    },
    {
      "cell_type": "markdown",
      "metadata": {
        "id": "I9LSvgfg4Nw3",
        "colab_type": "text"
      },
      "source": [
        "This hsows how accurate the model is "
      ]
    },
    {
      "cell_type": "markdown",
      "metadata": {
        "id": "zhA5oC1x4RLh",
        "colab_type": "text"
      },
      "source": [
        "First, convert the test dataset into a numpy array "
      ]
    },
    {
      "cell_type": "code",
      "metadata": {
        "id": "lfFWGqAP3_Z9",
        "colab_type": "code",
        "colab": {}
      },
      "source": [
        "X = np.asanyarray(test[['bedrooms', 'bathrooms', 'sqft_living', 'floors', 'waterfront'\n",
        ", 'view', 'condition', 'grade']])\n",
        "Y = np.asanyarray(test['price'])"
      ],
      "execution_count": 39,
      "outputs": []
    },
    {
      "cell_type": "markdown",
      "metadata": {
        "id": "1N7G532V57-P",
        "colab_type": "text"
      },
      "source": [
        "**MEAN SQUARED ERROR**"
      ]
    },
    {
      "cell_type": "code",
      "metadata": {
        "id": "Om5gu55i56TS",
        "colab_type": "code",
        "colab": {
          "base_uri": "https://localhost:8080/",
          "height": 35
        },
        "outputId": "31fe697b-16cc-4903-d96e-5b97fb0a02ce"
      },
      "source": [
        "print(\"Mean squared error of the model: %.2f\" %np.mean((predicted_prices - Y) ** 2))"
      ],
      "execution_count": 47,
      "outputs": [
        {
          "output_type": "stream",
          "text": [
            "Mean squared error of the model: 54281448719.28\n"
          ],
          "name": "stdout"
        }
      ]
    },
    {
      "cell_type": "markdown",
      "metadata": {
        "id": "Toktlem97kJL",
        "colab_type": "text"
      },
      "source": [
        "**EXPLAINED VARIANCE REGRESSION SCORE**"
      ]
    },
    {
      "cell_type": "code",
      "metadata": {
        "id": "OfSHDHvD6SI2",
        "colab_type": "code",
        "colab": {
          "base_uri": "https://localhost:8080/",
          "height": 35
        },
        "outputId": "f3e602de-bfb4-4b68-ff7f-12737ff9bb3a"
      },
      "source": [
        "print(\"Variance score of the model: %.2f\" %model.score(X, Y))"
      ],
      "execution_count": 48,
      "outputs": [
        {
          "output_type": "stream",
          "text": [
            "Variance score of the model: 0.62\n"
          ],
          "name": "stdout"
        }
      ]
    },
    {
      "cell_type": "markdown",
      "metadata": {
        "id": "Dl2cMA3-8C8u",
        "colab_type": "text"
      },
      "source": [
        "* The variance score suggests that the prediction is quite accurate ( best prediction is 1)"
      ]
    },
    {
      "cell_type": "markdown",
      "metadata": {
        "id": "UtR36LKT8Rcn",
        "colab_type": "text"
      },
      "source": [
        "#**THANK YOU FOR VIEWING MY PROJECT**"
      ]
    }
  ]
}